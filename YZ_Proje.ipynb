{
 "cells": [
  {
   "cell_type": "code",
   "execution_count": 32,
   "id": "e8c89133",
   "metadata": {},
   "outputs": [
    {
     "ename": "ModuleNotFoundError",
     "evalue": "No module named 'keras.utils.np_utils'",
     "output_type": "error",
     "traceback": [
      "\u001b[1;31m---------------------------------------------------------------------------\u001b[0m",
      "\u001b[1;31mModuleNotFoundError\u001b[0m                       Traceback (most recent call last)",
      "Cell \u001b[1;32mIn[32], line 19\u001b[0m\n\u001b[0;32m     16\u001b[0m \u001b[38;5;28;01mfrom\u001b[39;00m \u001b[38;5;21;01mkeras\u001b[39;00m\u001b[38;5;21;01m.\u001b[39;00m\u001b[38;5;21;01mmodels\u001b[39;00m \u001b[38;5;28;01mimport\u001b[39;00m Sequential\n\u001b[0;32m     17\u001b[0m \u001b[38;5;28;01mfrom\u001b[39;00m \u001b[38;5;21;01mkeras\u001b[39;00m\u001b[38;5;21;01m.\u001b[39;00m\u001b[38;5;21;01mlayers\u001b[39;00m \u001b[38;5;28;01mimport\u001b[39;00m Embedding, LSTM, Bidirectional, Dense, Dropout, SpatialDropout1D\n\u001b[1;32m---> 19\u001b[0m \u001b[38;5;28;01mfrom\u001b[39;00m \u001b[38;5;21;01mkeras\u001b[39;00m\u001b[38;5;21;01m.\u001b[39;00m\u001b[38;5;21;01mutils\u001b[39;00m\u001b[38;5;21;01m.\u001b[39;00m\u001b[38;5;21;01mnp_utils\u001b[39;00m \u001b[38;5;28;01mimport\u001b[39;00m to_categorical\n\u001b[0;32m     21\u001b[0m \u001b[38;5;28;01mimport\u001b[39;00m \u001b[38;5;21;01mwarnings\u001b[39;00m\n\u001b[0;32m     22\u001b[0m warnings\u001b[38;5;241m.\u001b[39mfilterwarnings(\u001b[38;5;124m\"\u001b[39m\u001b[38;5;124mignore\u001b[39m\u001b[38;5;124m\"\u001b[39m)\n",
      "\u001b[1;31mModuleNotFoundError\u001b[0m: No module named 'keras.utils.np_utils'"
     ]
    }
   ],
   "source": [
    "#İlk çalıştırmada alınan hatalar ikinci seferde düzelmektedir. Lütfen iki sefer çalıştırınız.\n",
    "import re\n",
    "import numpy as np\n",
    "import pandas as pd\n",
    "import seaborn as sns\n",
    "import tensorflow as tf\n",
    "import matplotlib.pyplot as plt\n",
    "%matplotlib inline\n",
    "\n",
    "from sklearn.feature_extraction.text import CountVectorizer\n",
    "from sklearn.model_selection import train_test_split\n",
    "\n",
    "from keras.preprocessing.text import Tokenizer\n",
    "from keras.utils import pad_sequences\n",
    "\n",
    "from keras.models import Sequential\n",
    "from keras.layers import Embedding, LSTM, Bidirectional, Dense, Dropout, SpatialDropout1D\n",
    "\n",
    "from keras.utils.np_utils import to_categorical\n",
    "\n",
    "import warnings\n",
    "warnings.filterwarnings(\"ignore\")"
   ]
  },
  {
   "cell_type": "code",
   "execution_count": 33,
   "id": "4b6da88a",
   "metadata": {},
   "outputs": [],
   "source": [
    "Dataset = pd.read_csv('Sentiment.csv')"
   ]
  },
  {
   "cell_type": "code",
   "execution_count": 34,
   "id": "e5c5c3b1",
   "metadata": {},
   "outputs": [
    {
     "data": {
      "text/html": [
       "<div>\n",
       "<style scoped>\n",
       "    .dataframe tbody tr th:only-of-type {\n",
       "        vertical-align: middle;\n",
       "    }\n",
       "\n",
       "    .dataframe tbody tr th {\n",
       "        vertical-align: top;\n",
       "    }\n",
       "\n",
       "    .dataframe thead th {\n",
       "        text-align: right;\n",
       "    }\n",
       "</style>\n",
       "<table border=\"1\" class=\"dataframe\">\n",
       "  <thead>\n",
       "    <tr style=\"text-align: right;\">\n",
       "      <th></th>\n",
       "      <th>id</th>\n",
       "      <th>candidate</th>\n",
       "      <th>candidate_confidence</th>\n",
       "      <th>relevant_yn</th>\n",
       "      <th>relevant_yn_confidence</th>\n",
       "      <th>sentiment</th>\n",
       "      <th>sentiment_confidence</th>\n",
       "      <th>subject_matter</th>\n",
       "      <th>subject_matter_confidence</th>\n",
       "      <th>candidate_gold</th>\n",
       "      <th>...</th>\n",
       "      <th>relevant_yn_gold</th>\n",
       "      <th>retweet_count</th>\n",
       "      <th>sentiment_gold</th>\n",
       "      <th>subject_matter_gold</th>\n",
       "      <th>text</th>\n",
       "      <th>tweet_coord</th>\n",
       "      <th>tweet_created</th>\n",
       "      <th>tweet_id</th>\n",
       "      <th>tweet_location</th>\n",
       "      <th>user_timezone</th>\n",
       "    </tr>\n",
       "  </thead>\n",
       "  <tbody>\n",
       "    <tr>\n",
       "      <th>0</th>\n",
       "      <td>1</td>\n",
       "      <td>No candidate mentioned</td>\n",
       "      <td>1.0</td>\n",
       "      <td>yes</td>\n",
       "      <td>1.0</td>\n",
       "      <td>Neutral</td>\n",
       "      <td>0.6578</td>\n",
       "      <td>None of the above</td>\n",
       "      <td>1.0000</td>\n",
       "      <td>NaN</td>\n",
       "      <td>...</td>\n",
       "      <td>NaN</td>\n",
       "      <td>5</td>\n",
       "      <td>NaN</td>\n",
       "      <td>NaN</td>\n",
       "      <td>RT @NancyLeeGrahn: How did everyone feel about...</td>\n",
       "      <td>NaN</td>\n",
       "      <td>2015-08-07 09:54:46 -0700</td>\n",
       "      <td>629697200650592256</td>\n",
       "      <td>NaN</td>\n",
       "      <td>Quito</td>\n",
       "    </tr>\n",
       "    <tr>\n",
       "      <th>1</th>\n",
       "      <td>2</td>\n",
       "      <td>Scott Walker</td>\n",
       "      <td>1.0</td>\n",
       "      <td>yes</td>\n",
       "      <td>1.0</td>\n",
       "      <td>Positive</td>\n",
       "      <td>0.6333</td>\n",
       "      <td>None of the above</td>\n",
       "      <td>1.0000</td>\n",
       "      <td>NaN</td>\n",
       "      <td>...</td>\n",
       "      <td>NaN</td>\n",
       "      <td>26</td>\n",
       "      <td>NaN</td>\n",
       "      <td>NaN</td>\n",
       "      <td>RT @ScottWalker: Didn't catch the full #GOPdeb...</td>\n",
       "      <td>NaN</td>\n",
       "      <td>2015-08-07 09:54:46 -0700</td>\n",
       "      <td>629697199560069120</td>\n",
       "      <td>NaN</td>\n",
       "      <td>NaN</td>\n",
       "    </tr>\n",
       "    <tr>\n",
       "      <th>2</th>\n",
       "      <td>3</td>\n",
       "      <td>No candidate mentioned</td>\n",
       "      <td>1.0</td>\n",
       "      <td>yes</td>\n",
       "      <td>1.0</td>\n",
       "      <td>Neutral</td>\n",
       "      <td>0.6629</td>\n",
       "      <td>None of the above</td>\n",
       "      <td>0.6629</td>\n",
       "      <td>NaN</td>\n",
       "      <td>...</td>\n",
       "      <td>NaN</td>\n",
       "      <td>27</td>\n",
       "      <td>NaN</td>\n",
       "      <td>NaN</td>\n",
       "      <td>RT @TJMShow: No mention of Tamir Rice and the ...</td>\n",
       "      <td>NaN</td>\n",
       "      <td>2015-08-07 09:54:46 -0700</td>\n",
       "      <td>629697199312482304</td>\n",
       "      <td>NaN</td>\n",
       "      <td>NaN</td>\n",
       "    </tr>\n",
       "    <tr>\n",
       "      <th>3</th>\n",
       "      <td>4</td>\n",
       "      <td>No candidate mentioned</td>\n",
       "      <td>1.0</td>\n",
       "      <td>yes</td>\n",
       "      <td>1.0</td>\n",
       "      <td>Positive</td>\n",
       "      <td>1.0000</td>\n",
       "      <td>None of the above</td>\n",
       "      <td>0.7039</td>\n",
       "      <td>NaN</td>\n",
       "      <td>...</td>\n",
       "      <td>NaN</td>\n",
       "      <td>138</td>\n",
       "      <td>NaN</td>\n",
       "      <td>NaN</td>\n",
       "      <td>RT @RobGeorge: That Carly Fiorina is trending ...</td>\n",
       "      <td>NaN</td>\n",
       "      <td>2015-08-07 09:54:45 -0700</td>\n",
       "      <td>629697197118861312</td>\n",
       "      <td>Texas</td>\n",
       "      <td>Central Time (US &amp; Canada)</td>\n",
       "    </tr>\n",
       "    <tr>\n",
       "      <th>4</th>\n",
       "      <td>5</td>\n",
       "      <td>Donald Trump</td>\n",
       "      <td>1.0</td>\n",
       "      <td>yes</td>\n",
       "      <td>1.0</td>\n",
       "      <td>Positive</td>\n",
       "      <td>0.7045</td>\n",
       "      <td>None of the above</td>\n",
       "      <td>1.0000</td>\n",
       "      <td>NaN</td>\n",
       "      <td>...</td>\n",
       "      <td>NaN</td>\n",
       "      <td>156</td>\n",
       "      <td>NaN</td>\n",
       "      <td>NaN</td>\n",
       "      <td>RT @DanScavino: #GOPDebate w/ @realDonaldTrump...</td>\n",
       "      <td>NaN</td>\n",
       "      <td>2015-08-07 09:54:45 -0700</td>\n",
       "      <td>629697196967903232</td>\n",
       "      <td>NaN</td>\n",
       "      <td>Arizona</td>\n",
       "    </tr>\n",
       "  </tbody>\n",
       "</table>\n",
       "<p>5 rows × 21 columns</p>\n",
       "</div>"
      ],
      "text/plain": [
       "   id               candidate  candidate_confidence relevant_yn  \\\n",
       "0   1  No candidate mentioned                   1.0         yes   \n",
       "1   2            Scott Walker                   1.0         yes   \n",
       "2   3  No candidate mentioned                   1.0         yes   \n",
       "3   4  No candidate mentioned                   1.0         yes   \n",
       "4   5            Donald Trump                   1.0         yes   \n",
       "\n",
       "   relevant_yn_confidence sentiment  sentiment_confidence     subject_matter  \\\n",
       "0                     1.0   Neutral                0.6578  None of the above   \n",
       "1                     1.0  Positive                0.6333  None of the above   \n",
       "2                     1.0   Neutral                0.6629  None of the above   \n",
       "3                     1.0  Positive                1.0000  None of the above   \n",
       "4                     1.0  Positive                0.7045  None of the above   \n",
       "\n",
       "   subject_matter_confidence candidate_gold  ... relevant_yn_gold  \\\n",
       "0                     1.0000            NaN  ...              NaN   \n",
       "1                     1.0000            NaN  ...              NaN   \n",
       "2                     0.6629            NaN  ...              NaN   \n",
       "3                     0.7039            NaN  ...              NaN   \n",
       "4                     1.0000            NaN  ...              NaN   \n",
       "\n",
       "  retweet_count  sentiment_gold subject_matter_gold  \\\n",
       "0             5             NaN                 NaN   \n",
       "1            26             NaN                 NaN   \n",
       "2            27             NaN                 NaN   \n",
       "3           138             NaN                 NaN   \n",
       "4           156             NaN                 NaN   \n",
       "\n",
       "                                                text tweet_coord  \\\n",
       "0  RT @NancyLeeGrahn: How did everyone feel about...         NaN   \n",
       "1  RT @ScottWalker: Didn't catch the full #GOPdeb...         NaN   \n",
       "2  RT @TJMShow: No mention of Tamir Rice and the ...         NaN   \n",
       "3  RT @RobGeorge: That Carly Fiorina is trending ...         NaN   \n",
       "4  RT @DanScavino: #GOPDebate w/ @realDonaldTrump...         NaN   \n",
       "\n",
       "               tweet_created            tweet_id  tweet_location  \\\n",
       "0  2015-08-07 09:54:46 -0700  629697200650592256             NaN   \n",
       "1  2015-08-07 09:54:46 -0700  629697199560069120             NaN   \n",
       "2  2015-08-07 09:54:46 -0700  629697199312482304             NaN   \n",
       "3  2015-08-07 09:54:45 -0700  629697197118861312           Texas   \n",
       "4  2015-08-07 09:54:45 -0700  629697196967903232             NaN   \n",
       "\n",
       "                user_timezone  \n",
       "0                       Quito  \n",
       "1                         NaN  \n",
       "2                         NaN  \n",
       "3  Central Time (US & Canada)  \n",
       "4                     Arizona  \n",
       "\n",
       "[5 rows x 21 columns]"
      ]
     },
     "execution_count": 34,
     "metadata": {},
     "output_type": "execute_result"
    }
   ],
   "source": [
    "Dataset.head()"
   ]
  },
  {
   "cell_type": "code",
   "execution_count": 35,
   "id": "fe5f3700",
   "metadata": {},
   "outputs": [
    {
     "name": "stdout",
     "output_type": "stream",
     "text": [
      "Number of rows in dataset : 13871\n",
      "Number of columns in dataset : 21\n"
     ]
    }
   ],
   "source": [
    "m, n = Dataset.shape\n",
    "\n",
    "print(f'Number of rows in dataset : {m}')\n",
    "print(f'Number of columns in dataset : {n}')"
   ]
  },
  {
   "cell_type": "code",
   "execution_count": 36,
   "id": "4b3502c8",
   "metadata": {},
   "outputs": [
    {
     "data": {
      "text/plain": [
       "Index(['id', 'candidate', 'candidate_confidence', 'relevant_yn',\n",
       "       'relevant_yn_confidence', 'sentiment', 'sentiment_confidence',\n",
       "       'subject_matter', 'subject_matter_confidence', 'candidate_gold', 'name',\n",
       "       'relevant_yn_gold', 'retweet_count', 'sentiment_gold',\n",
       "       'subject_matter_gold', 'text', 'tweet_coord', 'tweet_created',\n",
       "       'tweet_id', 'tweet_location', 'user_timezone'],\n",
       "      dtype='object')"
      ]
     },
     "execution_count": 36,
     "metadata": {},
     "output_type": "execute_result"
    }
   ],
   "source": [
    "Dataset.columns"
   ]
  },
  {
   "cell_type": "code",
   "execution_count": 37,
   "id": "0827e727",
   "metadata": {},
   "outputs": [],
   "source": [
    "# Gerekli sütunlar seçildi.\n",
    "\n",
    "Dataset = Dataset[['text', 'sentiment']]"
   ]
  },
  {
   "cell_type": "code",
   "execution_count": 38,
   "id": "5a8ac651",
   "metadata": {},
   "outputs": [
    {
     "data": {
      "text/html": [
       "<div>\n",
       "<style scoped>\n",
       "    .dataframe tbody tr th:only-of-type {\n",
       "        vertical-align: middle;\n",
       "    }\n",
       "\n",
       "    .dataframe tbody tr th {\n",
       "        vertical-align: top;\n",
       "    }\n",
       "\n",
       "    .dataframe thead th {\n",
       "        text-align: right;\n",
       "    }\n",
       "</style>\n",
       "<table border=\"1\" class=\"dataframe\">\n",
       "  <thead>\n",
       "    <tr style=\"text-align: right;\">\n",
       "      <th></th>\n",
       "      <th>text</th>\n",
       "      <th>sentiment</th>\n",
       "    </tr>\n",
       "  </thead>\n",
       "  <tbody>\n",
       "    <tr>\n",
       "      <th>0</th>\n",
       "      <td>RT @NancyLeeGrahn: How did everyone feel about...</td>\n",
       "      <td>Neutral</td>\n",
       "    </tr>\n",
       "    <tr>\n",
       "      <th>1</th>\n",
       "      <td>RT @ScottWalker: Didn't catch the full #GOPdeb...</td>\n",
       "      <td>Positive</td>\n",
       "    </tr>\n",
       "    <tr>\n",
       "      <th>2</th>\n",
       "      <td>RT @TJMShow: No mention of Tamir Rice and the ...</td>\n",
       "      <td>Neutral</td>\n",
       "    </tr>\n",
       "    <tr>\n",
       "      <th>3</th>\n",
       "      <td>RT @RobGeorge: That Carly Fiorina is trending ...</td>\n",
       "      <td>Positive</td>\n",
       "    </tr>\n",
       "    <tr>\n",
       "      <th>4</th>\n",
       "      <td>RT @DanScavino: #GOPDebate w/ @realDonaldTrump...</td>\n",
       "      <td>Positive</td>\n",
       "    </tr>\n",
       "  </tbody>\n",
       "</table>\n",
       "</div>"
      ],
      "text/plain": [
       "                                                text sentiment\n",
       "0  RT @NancyLeeGrahn: How did everyone feel about...   Neutral\n",
       "1  RT @ScottWalker: Didn't catch the full #GOPdeb...  Positive\n",
       "2  RT @TJMShow: No mention of Tamir Rice and the ...   Neutral\n",
       "3  RT @RobGeorge: That Carly Fiorina is trending ...  Positive\n",
       "4  RT @DanScavino: #GOPDebate w/ @realDonaldTrump...  Positive"
      ]
     },
     "execution_count": 38,
     "metadata": {},
     "output_type": "execute_result"
    }
   ],
   "source": [
    "Dataset.head()"
   ]
  },
  {
   "cell_type": "code",
   "execution_count": 39,
   "id": "9340aa76",
   "metadata": {},
   "outputs": [
    {
     "data": {
      "text/plain": [
       "0        RT @NancyLeeGrahn: How did everyone feel about...\n",
       "1        RT @ScottWalker: Didn't catch the full #GOPdeb...\n",
       "2        RT @TJMShow: No mention of Tamir Rice and the ...\n",
       "3        RT @RobGeorge: That Carly Fiorina is trending ...\n",
       "4        RT @DanScavino: #GOPDebate w/ @realDonaldTrump...\n",
       "                               ...                        \n",
       "13866    RT @cappy_yarbrough: Love to see men who will ...\n",
       "13867    RT @georgehenryw: Who thought Huckabee exceede...\n",
       "13868    RT @Lrihendry: #TedCruz As President, I will a...\n",
       "13869    RT @JRehling: #GOPDebate Donald Trump says tha...\n",
       "13870    RT @Lrihendry: #TedCruz headed into the Presid...\n",
       "Name: text, Length: 13871, dtype: object"
      ]
     },
     "execution_count": 39,
     "metadata": {},
     "output_type": "execute_result"
    }
   ],
   "source": [
    "Dataset['text']"
   ]
  },
  {
   "cell_type": "code",
   "execution_count": 40,
   "id": "2497295d",
   "metadata": {},
   "outputs": [],
   "source": [
    "Dataset['text'] = Dataset['text'].map(lambda x: x.lower())\n",
    "Dataset['text'] = Dataset['text'].map(lambda x: re.sub('[^a-z0-9\\s]','', x))\n",
    "\n",
    "for i in range(Dataset.shape[0]):\n",
    "    Dataset['text'][i] = Dataset['text'][i].replace('rt', '')"
   ]
  },
  {
   "cell_type": "code",
   "execution_count": 41,
   "id": "4bb3b23d",
   "metadata": {},
   "outputs": [
    {
     "data": {
      "text/plain": [
       "0         nancyleegrahn how did everyone feel about the...\n",
       "1         scottwalker didnt catch the full gopdebate la...\n",
       "2         tjmshow no mention of tamir rice and the gopd...\n",
       "3         robgeorge that carly fiorina is trending  hou...\n",
       "4         danscavino gopdebate w realdonaldtrump delive...\n",
       "                               ...                        \n",
       "13866     cappyyarbrough love to see men who will never...\n",
       "13867     georgehenryw who thought huckabee exceeded th...\n",
       "13868     lrihendry tedcruz as president i will always ...\n",
       "13869     jrehling gopdebate donald trump says that he ...\n",
       "13870     lrihendry tedcruz headed into the presidentia...\n",
       "Name: text, Length: 13871, dtype: object"
      ]
     },
     "execution_count": 41,
     "metadata": {},
     "output_type": "execute_result"
    }
   ],
   "source": [
    "Dataset['text']"
   ]
  },
  {
   "cell_type": "code",
   "execution_count": 42,
   "id": "08005e21",
   "metadata": {},
   "outputs": [
    {
     "data": {
      "text/plain": [
       "sentiment\n",
       "Negative    8493\n",
       "Neutral     3142\n",
       "Positive    2236\n",
       "Name: count, dtype: int64"
      ]
     },
     "execution_count": 42,
     "metadata": {},
     "output_type": "execute_result"
    }
   ],
   "source": [
    "# Duygu sütununda benzersiz değerlerin sayısı gösterildi.\n",
    "\n",
    "Uniq_vals = Dataset['sentiment'].value_counts()\n",
    "Uniq_vals"
   ]
  },
  {
   "cell_type": "code",
   "execution_count": 43,
   "id": "c09f2b7d",
   "metadata": {},
   "outputs": [
    {
     "data": {
      "image/png": "[encoded data removed]",
      "text/plain": [
       "<Figure size 800x600 with 1 Axes>"
      ]
     },
     "metadata": {},
     "output_type": "display_data"
    }
   ],
   "source": [
    "#Duyguların yüzdelik değerleri bulunarak görselleştirme işlemi yapıldı.\n",
    "LABELS = ['Negative', 'Neutral', 'Positive']\n",
    "\n",
    "def func(pct, allvalues):\n",
    "    absolute = int(pct / 100. * np.sum(allvalues))\n",
    "    return \"{:.1f}%\\n({:d})\".format(pct, absolute)\n",
    "\n",
    "fig, ax = plt.subplots(figsize =(8, 6))\n",
    "ax.pie(Uniq_vals, \n",
    "       labels=LABELS, \n",
    "       autopct=lambda pct: func(pct, Uniq_vals))\n",
    "\n",
    "ax.legend(loc =\"center left\", bbox_to_anchor =(1, 0, 0.5, 1))\n",
    "ax.set_title('Distribution of Sentiment')\n",
    "plt.show()"
   ]
  },
  {
   "cell_type": "code",
   "execution_count": 44,
   "id": "4ef9edbf",
   "metadata": {},
   "outputs": [],
   "source": [
    "max_features = 2000   \n",
    "\n",
    "tokenizer = Tokenizer(num_words=max_features, split=' ')\n",
    "tokenizer.fit_on_texts(Dataset['text'].values)\n",
    "X = tokenizer.texts_to_sequences(Dataset['text'].values)\n",
    "X = pad_sequences(X)"
   ]
  },
  {
   "cell_type": "code",
   "execution_count": 45,
   "id": "4dfd6614",
   "metadata": {},
   "outputs": [
    {
     "data": {
      "text/plain": [
       "array([[   0,    0,    0, ...,   51, 1019,    1],\n",
       "       [   0,    0,    0, ..., 1556, 1328,  831],\n",
       "       [   0,    0,    0, ...,   10,  684,  511],\n",
       "       ...,\n",
       "       [   0,    0,    0, ...,   68,   61,    3],\n",
       "       [   0,    0,    0, ..., 1092, 1567,   80],\n",
       "       [   0,    0,    0, ...,  193,    3,  864]])"
      ]
     },
     "execution_count": 45,
     "metadata": {},
     "output_type": "execute_result"
    }
   ],
   "source": [
    "X"
   ]
  },
  {
   "cell_type": "code",
   "execution_count": 46,
   "id": "19c33ea6",
   "metadata": {},
   "outputs": [],
   "source": [
    "#İkili değişkenlere dönüştürelim.\n",
    "y = pd.get_dummies(Dataset['sentiment']).values "
   ]
  },
  {
   "cell_type": "code",
   "execution_count": 47,
   "id": "e2aa9df0",
   "metadata": {},
   "outputs": [
    {
     "data": {
      "text/plain": [
       "array([[False,  True, False],\n",
       "       [False, False,  True],\n",
       "       [False,  True, False],\n",
       "       ...,\n",
       "       [False, False,  True],\n",
       "       [ True, False, False],\n",
       "       [False, False,  True]])"
      ]
     },
     "execution_count": 47,
     "metadata": {},
     "output_type": "execute_result"
    }
   ],
   "source": [
    "y"
   ]
  },
  {
   "cell_type": "code",
   "execution_count": 48,
   "id": "c1a8396c",
   "metadata": {},
   "outputs": [],
   "source": [
    "lstm_out = 196\n",
    "\n",
    "# Sıralı model tanımlandı.\n",
    "model = Sequential()\n",
    "\n",
    "# 128 boyutlu vektöre gömme işlemi yapıldı.\n",
    "model.add(Embedding(max_features, 128, input_length=X.shape[1]))\n",
    "\n",
    "# Aşırı öğrenme azaltaldı. \n",
    "model.add(Dropout(0.2))\n",
    "\n",
    "# LSTM Katmanı eklendi.\n",
    "model.add(Bidirectional(LSTM(lstm_out, dropout=0.2)))\n",
    "\n",
    "# Yoğun katmanı eklendi.\n",
    "model.add(Dense(3, activation='softmax')) "
   ]
  },
  {
   "cell_type": "code",
   "execution_count": 49,
   "id": "2d61699b",
   "metadata": {},
   "outputs": [],
   "source": [
    "#Model optimizasyon işlemi yapıldı.\n",
    "model.compile(optimizer='adam',\n",
    "              loss='categorical_crossentropy',\n",
    "              metrics=['accuracy'])"
   ]
  },
  {
   "cell_type": "code",
   "execution_count": 50,
   "id": "18d0800e",
   "metadata": {},
   "outputs": [
    {
     "name": "stdout",
     "output_type": "stream",
     "text": [
      "Model: \"sequential_1\"\n",
      "_________________________________________________________________\n",
      " Layer (type)                Output Shape              Param #   \n",
      "=================================================================\n",
      " embedding_1 (Embedding)     (None, 28, 128)           256000    \n",
      "                                                                 \n",
      " dropout_1 (Dropout)         (None, 28, 128)           0         \n",
      "                                                                 \n",
      " bidirectional_1 (Bidirecti  (None, 392)               509600    \n",
      " onal)                                                           \n",
      "                                                                 \n",
      " dense_1 (Dense)             (None, 3)                 1179      \n",
      "                                                                 \n",
      "=================================================================\n",
      "Total params: 766779 (2.93 MB)\n",
      "Trainable params: 766779 (2.93 MB)\n",
      "Non-trainable params: 0 (0.00 Byte)\n",
      "_________________________________________________________________\n"
     ]
    }
   ],
   "source": [
    "model.summary()"
   ]
  },
  {
   "cell_type": "code",
   "execution_count": 51,
   "id": "3c39e03f",
   "metadata": {},
   "outputs": [],
   "source": [
    "#Veriler eğitim ve test olarak ayrıldı.\n",
    "X_train, X_test, y_train, y_test = train_test_split(X, y, \n",
    "                                                    test_size=0.3, \n",
    "                                                    random_state=44, \n",
    "                                                    shuffle=True)"
   ]
  },
  {
   "cell_type": "code",
   "execution_count": 52,
   "id": "1616efdb",
   "metadata": {},
   "outputs": [
    {
     "data": {
      "text/plain": [
       "((9709, 28), (4162, 28), (9709, 3), (4162, 3))"
      ]
     },
     "execution_count": 52,
     "metadata": {},
     "output_type": "execute_result"
    }
   ],
   "source": [
    "X_train.shape, X_test.shape, y_train.shape, y_test.shape"
   ]
  },
  {
   "cell_type": "code",
   "execution_count": 53,
   "id": "971e1e15",
   "metadata": {},
   "outputs": [
    {
     "name": "stdout",
     "output_type": "stream",
     "text": [
      "Epoch 1/8\n",
      "152/152 [==============================] - 26s 139ms/step - loss: 0.8468 - accuracy: 0.6325 - val_loss: 0.7701 - val_accuracy: 0.6687\n",
      "Epoch 2/8\n",
      "152/152 [==============================] - 20s 131ms/step - loss: 0.6955 - accuracy: 0.7011 - val_loss: 0.7282 - val_accuracy: 0.6893\n",
      "Epoch 3/8\n",
      "152/152 [==============================] - 20s 132ms/step - loss: 0.6222 - accuracy: 0.7321 - val_loss: 0.7456 - val_accuracy: 0.6759\n",
      "Epoch 4/8\n",
      "152/152 [==============================] - 20s 132ms/step - loss: 0.5887 - accuracy: 0.7508 - val_loss: 0.7581 - val_accuracy: 0.6792\n",
      "Epoch 5/8\n",
      "152/152 [==============================] - 20s 134ms/step - loss: 0.5477 - accuracy: 0.7672 - val_loss: 0.7963 - val_accuracy: 0.6735\n",
      "Epoch 6/8\n",
      "152/152 [==============================] - 20s 133ms/step - loss: 0.5185 - accuracy: 0.7782 - val_loss: 0.8160 - val_accuracy: 0.6812\n",
      "Epoch 7/8\n",
      "152/152 [==============================] - 20s 132ms/step - loss: 0.4851 - accuracy: 0.7960 - val_loss: 0.8625 - val_accuracy: 0.6586\n",
      "Epoch 8/8\n",
      "152/152 [==============================] - 20s 133ms/step - loss: 0.4579 - accuracy: 0.8062 - val_loss: 0.9111 - val_accuracy: 0.6737\n"
     ]
    }
   ],
   "source": [
    "#Model eğitildi.\n",
    "BATCH_SIZE = 64\n",
    "EPOCHS = 8\n",
    "\n",
    "hist = model.fit(X_train, y_train, \n",
    "                 epochs = EPOCHS, \n",
    "                 validation_data = (X_test, y_test), \n",
    "                 batch_size = BATCH_SIZE, \n",
    "                 verbose = 1)"
   ]
  },
  {
   "cell_type": "code",
   "execution_count": 54,
   "id": "429127c4",
   "metadata": {},
   "outputs": [
    {
     "name": "stdout",
     "output_type": "stream",
     "text": [
      "Score: 0.91\n",
      "Accuracy: 0.67\n"
     ]
    }
   ],
   "source": [
    "score, acc = model.evaluate(X_test, y_test, batch_size = BATCH_SIZE, verbose=0)\n",
    "\n",
    "print('Score: {:.2f}'.format(score))\n",
    "print('Accuracy: {:.2f}'.format(acc))"
   ]
  },
  {
   "cell_type": "code",
   "execution_count": 55,
   "id": "2240e16c",
   "metadata": {},
   "outputs": [
    {
     "name": "stdout",
     "output_type": "stream",
     "text": [
      "1/1 [==============================] - 1s 1s/step\n",
      "Positive\n"
     ]
    }
   ],
   "source": [
    "# Modelin test işlemi yapıldı. \n",
    "\n",
    "tweet = [\"I'm happy.\"]\n",
    "\n",
    "# Önceden kullanılan tokenizer örneğiyle vektörleştirildi.\n",
    "tweet = tokenizer.texts_to_sequences(tweet)\n",
    "\n",
    "tweet = pad_sequences(tweet, maxlen=28, dtype='int32', value=0)\n",
    "\n",
    "sentiment = model.predict(tweet, batch_size=1, verbose=1)[0]\n",
    "\n",
    "if(np.argmax(sentiment) == 0):\n",
    "    print(\"Negative\")\n",
    "    \n",
    "elif (np.argmax(sentiment) == 1):\n",
    "    print(\"Positive\")\n",
    "    \n",
    "elif (np.argmax(sentiment) == 2):\n",
    "    print(\"Neutral\")"
   ]
  },
  {
   "cell_type": "code",
   "execution_count": 58,
   "id": "238572f4",
   "metadata": {},
   "outputs": [],
   "source": [
    "#Model kaydedildi.\n",
    "from keras.models import load_model\n",
    "model.save('YZ_Proje.h5')\n"
   ]
  },
  {
   "cell_type": "code",
   "execution_count": 61,
   "id": "ae3e19b1",
   "metadata": {},
   "outputs": [
    {
     "name": "stdout",
     "output_type": "stream",
     "text": [
      "WARNING:tensorflow:5 out of the last 12 calls to <function Model.make_predict_function.<locals>.predict_function at 0x000002303D85B9C0> triggered tf.function retracing. Tracing is expensive and the excessive number of tracings could be due to (1) creating @tf.function repeatedly in a loop, (2) passing tensors with different shapes, (3) passing Python objects instead of tensors. For (1), please define your @tf.function outside of the loop. For (2), @tf.function has reduce_retracing=True option that can avoid unnecessary retracing. For (3), please refer to https://www.tensorflow.org/guide/function#controlling_retracing and https://www.tensorflow.org/api_docs/python/tf/function for  more details.\n"
     ]
    }
   ],
   "source": [
    "#Uygulamanın arayüzü oluşturuldu.\n",
    "from tkinter import messagebox, ttk, Entry, Label, Tk\n",
    "from keras.models import load_model\n",
    "from keras.preprocessing.sequence import pad_sequences\n",
    "from keras.preprocessing.text import Tokenizer\n",
    "import pandas as pd\n",
    "\n",
    "class SentimentAnalysisApp:\n",
    "    def __init__(self, model_path):\n",
    "        self.model_path = model_path\n",
    "        self.max_features = 2000\n",
    "        self.load_model_and_tokenizer()\n",
    "\n",
    "        self.root = Tk()\n",
    "        self.root.title(\"Sentiment Analysis App\")\n",
    "        self.root.geometry(\"500x300\")\n",
    "\n",
    "        self.create_widgets()\n",
    "        self.root.mainloop()\n",
    "\n",
    "    def load_model_and_tokenizer(self):\n",
    "        self.model = load_model(self.model_path)\n",
    "        self.tokenizer = Tokenizer(num_words=self.max_features, split=' ')\n",
    "        # Dataset yerine uygun bir veri kullanılmalı\n",
    "        self.tokenizer.fit_on_texts(Dataset['text'].values)\n",
    "\n",
    "    def create_widgets(self):\n",
    "        title_label = Label(self.root, text=\"Sentiment Analysis App\", font=(\"Helvetica\", 20, \"bold\"), background=\"#202da1\", foreground=\"white\")\n",
    "        title_label.pack(pady=10, fill='x')\n",
    "\n",
    "        self.text_entry = Entry(self.root, width=50, font=(\"Helvetica\", 14), background=\"#ECF0F1\")\n",
    "        self.text_entry.pack(pady=10)\n",
    "\n",
    "        analyze_button = ttk.Button(self.root, text=\"Analyze\", command=self.analyze_sentiment, style='TButton')\n",
    "        analyze_button.pack(pady=10)\n",
    "\n",
    "    def analyze_sentiment(self):\n",
    "        tweet = self.text_entry.get()\n",
    "\n",
    "        tweet_vectorized = self.tokenizer.texts_to_sequences([tweet])\n",
    "        tweet_padded = pad_sequences(tweet_vectorized, maxlen=28, dtype='int32', value=0)\n",
    "\n",
    "        sentiment = self.model.predict(tweet_padded, batch_size=1, verbose=0)[0]\n",
    "\n",
    "        sentiments = ['Negative 😢', 'Positive 😊', 'Neutral 🤠']\n",
    "        \n",
    "        # Duygu tespiti yapma ve eşik değerleri yerine oranları kullanma\n",
    "        positive_threshold = 0.4  # Pozitif olma olasılığı için eşik değer\n",
    "        negative_threshold = 0.4  # Negatif olma olasılığı için eşik değer\n",
    "\n",
    "        if sentiment[1] > positive_threshold:\n",
    "            result_text = sentiments[1]  # Positive\n",
    "        elif sentiment[0] > negative_threshold:\n",
    "            result_text = sentiments[0]  # Negative\n",
    "        else:\n",
    "            result_text = sentiments[2]  # Neutral\n",
    "\n",
    "        messagebox.showinfo(\"Sentiment Result\", f\"The sentiment of the tweet is: {result_text}\")\n",
    "\n",
    "if __name__ == \"__main__\":\n",
    "    app = SentimentAnalysisApp(model_path=\"YZ_Proje.h5\")\n"
   ]
  },
  {
   "cell_type": "code",
   "execution_count": null,
   "id": "cda8e372",
   "metadata": {},
   "outputs": [],
   "source": []
  },
  {
   "cell_type": "code",
   "execution_count": null,
   "id": "4d0db843",
   "metadata": {},
   "outputs": [],
   "source": []
  },
  {
   "cell_type": "code",
   "execution_count": null,
   "id": "c112f845",
   "metadata": {},
   "outputs": [],
   "source": []
  }
 ],
 "metadata": {
  "kernelspec": {
   "display_name": "Python 3 (ipykernel)",
   "language": "python",
   "name": "python3"
  },
  "language_info": {
   "codemirror_mode": {
    "name": "ipython",
    "version": 3
   },
   "file_extension": ".py",
   "mimetype": "text/x-python",
   "name": "python",
   "nbconvert_exporter": "python",
   "pygments_lexer": "ipython3",
   "version": "3.11.5"
  }
 },
 "nbformat": 4,
 "nbformat_minor": 5
}
